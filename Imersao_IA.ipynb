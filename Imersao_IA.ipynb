{
  "nbformat": 4,
  "nbformat_minor": 0,
  "metadata": {
    "colab": {
      "provenance": [],
      "authorship_tag": "ABX9TyO1gjHZoZRc/QSH7IT/9zbA",
      "include_colab_link": true
    },
    "kernelspec": {
      "name": "python3",
      "display_name": "Python 3"
    },
    "language_info": {
      "name": "python"
    }
  },
  "cells": [
    {
      "cell_type": "markdown",
      "metadata": {
        "id": "view-in-github",
        "colab_type": "text"
      },
      "source": [
        "<a href=\"https://colab.research.google.com/github/Felicio-Rocha/DS_Portifolio_Assitente/blob/main/Imersao_IA.ipynb\" target=\"_parent\"><img src=\"https://colab.research.google.com/assets/colab-badge.svg\" alt=\"Open In Colab\"/></a>"
      ]
    },
    {
      "cell_type": "code",
      "execution_count": 61,
      "metadata": {
        "id": "ix6mr0gLz5wR"
      },
      "outputs": [],
      "source": [
        "# Import the Python SDK\n",
        "import google.generativeai as genai\n",
        "# Used to securely store your API key\n",
        "from google.colab import userdata\n",
        "\n",
        "# Variável de ambiente\n",
        "GOOGLE_API_KEY=userdata.get('secret_key')\n",
        "genai.configure(api_key=GOOGLE_API_KEY)"
      ]
    },
    {
      "cell_type": "code",
      "source": [
        "generation_config = {\n",
        "    \"candidate_count\": 1,\n",
        "    \"temperature\": 0.5\n",
        "}"
      ],
      "metadata": {
        "id": "gyl46ANK2l1y"
      },
      "execution_count": 62,
      "outputs": []
    },
    {
      "cell_type": "code",
      "source": [
        "safety_settings = {\n",
        "    \"HARASSMENT\": \"BLOCK_LOW_AND_ABOVE\",\n",
        "    \"HATE\": \"BLOCK_LOW_AND_ABOVE\",\n",
        "    \"SEXUAL\": \"BLOCK_LOW_AND_ABOVE\",\n",
        "    \"DANGEROUS\": \"BLOCK_LOW_AND_ABOVE\"\n",
        "}"
      ],
      "metadata": {
        "id": "mJVIh8EL2l4Q"
      },
      "execution_count": 63,
      "outputs": []
    },
    {
      "cell_type": "code",
      "source": [
        "# Escolhendo o modelo\n",
        "model = genai.GenerativeModel(model_name='gemini-pro',\n",
        "                              generation_config=generation_config,\n",
        "                              safety_settings=safety_settings)"
      ],
      "metadata": {
        "id": "I7-vSbwz1eUW"
      },
      "execution_count": 64,
      "outputs": []
    },
    {
      "cell_type": "code",
      "source": [
        "chat = model.start_chat(history=[])"
      ],
      "metadata": {
        "id": "rgn5ygif1xyj"
      },
      "execution_count": 65,
      "outputs": []
    },
    {
      "cell_type": "code",
      "source": [
        "few_shot_prompt = \"\"\"\n",
        "Monte um projeto de ciência de dados aplicado a área de Basquete. O projeto deve conter um problema a ser resolvido, a fonte onde os dados podem ser obtidos publicamente, que deve existir e ser acessível e verdadeira, os desafios inerentes a área de dados que serão enfrentados no projeto e os códigos para iniciar o projeto com a leitura dos dados.\n",
        "\n",
        "Projeto de Ciência de Dados em Basquete\n",
        "Problema a Ser Resolvido:\n",
        "Prever o resultado de jogos de basquete com base em dados estatísticos de jogadores e equipes.\n",
        "Fonte de Dados:\n",
        "Basketball Reference\n",
        "Desafios Inerentes:\n",
        "Alta Dimensionalidade: Os dados de basquete contêm um grande número de variáveis, como estatísticas de jogadores, classificações de equipes e informações sobre jogos.\n",
        "Dados Não Estruturados: Alguns dados, como comentários e notícias, não estão em um formato estruturado, o que dificulta o processamento.\n",
        "Viés de Seleção: Os dados disponíveis podem estar sujeitos a viés de seleção, pois geralmente são coletados de jogos profissionais ou de alto nível.\n",
        "Interpretabilidade: Os modelos preditivos devem ser interpretáveis para que os treinadores e analistas possam entender os fatores que influenciam os resultados dos jogos.\n",
        "Códigos para Iniciar o Projeto:\n",
        "import pandas as pd\n",
        "\n",
        "# Carregar dados de estatísticas de jogadores\n",
        "players_stats = pd.read_csv('players_stats.csv')\n",
        "\n",
        "# Carregar dados de classificações de equipes\n",
        "team_rankings = pd.read_csv('team_rankings.csv')\n",
        "\n",
        "# Carregar dados de resultados de jogos\n",
        "game_results = pd.read_csv('game_results.csv')\n",
        "\n",
        "# Mesclar dados\n",
        "data = pd.merge(players_stats, team_rankings, on='team_id')\n",
        "data = pd.merge(data, game_results, on='game_id')\n",
        "\n",
        "# Pré-processamento de dados (por exemplo, lidar com valores ausentes, normalizar dados)\n",
        "\n",
        "# Treinar modelo preditivo (por exemplo, regressão logística, árvore de decisão)\n",
        "\n",
        "# Avaliar o desempenho do modelo (por exemplo, precisão, recall)\n",
        "\n",
        "\n",
        "Monte um projeto de ciência de dados aplicado a área de RH. O projeto deve conter um problema a ser resolvido, a fonte onde os dados podem ser obtidos publicamente, que deve existir e ser acessível e verdadeira, os desafios inerentes a área de dados que serão enfrentados no projeto e os códigos para iniciar o projeto com a leitura dos dados.\n",
        "Indique o local do site onde os dados podem ser baixados\n",
        "\n",
        "Projeto de Ciência de Dados Aplicado à Área de RH\n",
        "Problema a Ser Resolvido:\n",
        "Prever a rotatividade de funcionários para identificar os fatores que contribuem para a saída de funcionários valiosos e desenvolver estratégias de retenção direcionadas.\n",
        "Fonte de Dados Pública:\n",
        "Conjunto de Dados de Rotatividade de Funcionários do Kaggle\n",
        "Desafios Inerentes à Área de Dados:\n",
        "Dados incompletos ou ausentes: O conjunto de dados pode conter valores ausentes ou incompletos que precisam ser tratados.\n",
        "Dados tendenciosos: Os dados podem ser tendenciosos devido a fatores como amostragem ou coleta de dados tendenciosa.\n",
        "Alta dimensionalidade: O conjunto de dados pode conter um grande número de recursos, o que pode dificultar a identificação de padrões e relacionamentos.\n",
        "Interpretabilidade: Os modelos desenvolvidos devem ser interpretáveis para que as partes interessadas de RH possam entender as razões por trás das previsões.\n",
        "Códigos para Iniciar o Projeto:\n",
        "# Importar bibliotecas necessárias\n",
        "import pandas as pd\n",
        "import numpy as np\n",
        "\n",
        "# Carregar o conjunto de dados\n",
        "df = pd.read_csv('ibm_hr_analytics_attrition_dataset.csv')\n",
        "\n",
        "# Exibir as primeiras linhas do conjunto de dados\n",
        "print(df.head())\n",
        "\n",
        "# Verificar se há valores ausentes\n",
        "print(df.isnull().sum())\n",
        "\n",
        "\n",
        "Monte um projeto de ciência de dados aplicado a área de Astronomia. O projeto deve conter um problema a ser resolvido, a fonte onde os dados podem ser obtidos publicamente, que deve existir e ser acessível e verdadeira, os desafios inerentes a área de dados que serão enfrentados no projeto e os códigos para iniciar o projeto com a leitura dos dados.\n",
        "\n",
        "Projeto de Ciência de Dados Aplicado à Astronomia\n",
        "Problema a Ser Resolvido:\n",
        "Prever a idade das estrelas usando dados espectroscópicos.\n",
        "Fonte de Dados Pública:\n",
        "Sloan Digital Sky Survey (SDSS): https://skyserver.sdss.org/dr16/\n",
        "Desafios inerentes da área de dados:\n",
        "Alto volume de dados: O SDSS contém terabytes de dados, exigindo técnicas eficientes de processamento e armazenamento de dados.\n",
        "Dados heterogêneos: Os dados espectroscópicos incluem diversas informações, como comprimentos de onda e intensidades, que requerem métodos robustos de integração e análise.\n",
        "Ruído e erros: Os dados espectroscópicos podem estar contaminados por ruído e erros instrumentais, exigindo técnicas de limpeza e filtragem de dados.\n",
        "Código para Iniciar o Projeto (com Python):\n",
        "import numpy as np\n",
        "import pandas as pd\n",
        "\n",
        "# Carregar dados do SDSS\n",
        "dados_sdss = pd.read_csv('spec-dr16.fits')\n",
        "\n",
        "# Extrair dados espectroscópicos relevantes\n",
        "comprimentos_onda = dados_sdss['wavelength'].values\n",
        "intensidades = dados_sdss['flux'].values\n",
        "\n",
        "# Remover linhas com dados ausentes\n",
        "indices_validos = ~np.isnan(comprimentos_onda) & ~np.isnan(intensidades)\n",
        "comprimentos_onda = comprimentos_onda[indices_validos]\n",
        "intensidades = intensidades[indices_validos]\n",
        "\n",
        "# Preparar dados para análise\n",
        "# ... (inserir código de pré-processamento e engenharia de recursos)\n",
        "\n",
        "\n",
        "Monte um projeto de ciência de dados aplicado a área de Geologia. O projeto deve conter um problema a ser resolvido, a fonte onde os dados podem ser obtidos publicamente, os desafios inerentes a área de dados que serão enfrentados no projeto e os códigos para iniciar o projeto com a leitura dos dados. Justifique a escolha do dataset em questão!\n",
        "\n",
        "Projeto de Ciência de Dados para Geologia\n",
        "Problema a Ser Resolvido:\n",
        "Prever a potencial ocorrência de deslizamentos de terra em uma determinada região usando um modelo de aprendizado de máquina.\n",
        "Fonte de Dados Pública:\n",
        "Database de Deslizamentos de Terra dos Estados Unidos (US Landslide Inventory): https://landslides.usgs.gov/\n",
        "Justificativa da Escolha do Dataset:\n",
        "O Database de Deslizamentos de Terra dos Estados Unidos é um repositório abrangente de informações sobre desastres de deslizamentos de terra nos Estados Unidos, fornecendo uma fonte rica de dados para análise. Ele inclui informações detalhadas sobre a localização, tamanho, tipo e causas dos deslizamentos de terra, além de dados geológicos e ambientais relacionados.\n",
        "Desafios de Dados:\n",
        "Dados esparsos: Os deslizamentos de terra são eventos relativamente raros, o que pode levar a dados esparsos.\n",
        "Dados heterogêneos: Os dados do inventário incluem uma variedade de tipos e formatos de dados, incluindo tabelas, mapas e imagens.\n",
        "Dados de alta dimensionalidade: Os dados geológicos e ambientais relacionados ao deslizamento de terra podem ser de alta dimensionalidade e exigir técnicas de redução de dimensionalidade.\n",
        "Códigos para Iniciar o Projeto com Leitura de Dados:\n",
        "Usando a linguagem Python com a biblioteca Pandas:\n",
        "import pandas as pd\n",
        "\n",
        "# Ler os dados do inventário de deslizamentos de terra\n",
        "df = pd.read_csv('landslide_inventory.csv')\n",
        "\n",
        "# Verificar as primeiras linhas do dataframe\n",
        "print(df.head())\n",
        "\n",
        "# Obter informações sobre o dataframe\n",
        "print(df.info())\n",
        "\n",
        "\"\"\""
      ],
      "metadata": {
        "id": "rSQIjK3RCrPx"
      },
      "execution_count": 66,
      "outputs": []
    },
    {
      "cell_type": "code",
      "source": [
        "prompt_inicial = \"Olá, bem vindo ao seu assistente de criação de projetos para Data Science!!!\\n\" +\\\n",
        "\"Em qual área você gostaria de aplicar ciência de dados hoje?\\n \\n\""
      ],
      "metadata": {
        "id": "Lya6ZLwg1x1u"
      },
      "execution_count": 67,
      "outputs": []
    },
    {
      "cell_type": "code",
      "source": [
        "project_area = input(prompt_inicial)\n",
        "prompt_project = f\"Monte um projeto de ciência de dados aplicado a área de {project_area}. O projeto deve conter um problema a ser resolvido, a fonte onde os dados podem ser obtidos publicamente, os desafios inerentes a área de dados que serão enfrentados no projeto e os códigos para iniciar o projeto com a leitura dos dados. Justifique a escolha do dataset em questão!\"\n",
        "few_shot_prompt += prompt_project\n",
        "response = chat.send_message(prompt_project)\n",
        "print(\"Projeto sugerido: \\n \\n\", response.text, \"\\n\")"
      ],
      "metadata": {
        "colab": {
          "base_uri": "https://localhost:8080/",
          "height": 818
        },
        "id": "731GUtqq1x4U",
        "outputId": "88e72105-2f0b-4180-c2dd-e2d9e5fb2389"
      },
      "execution_count": 68,
      "outputs": [
        {
          "output_type": "stream",
          "name": "stdout",
          "text": [
            "Olá, bem vindo ao seu assistente de criação de projetos para Data Science!!!\n",
            "Em qual área você gostaria de aplicar ciência de dados hoje?\n",
            " \n",
            "Baseball\n",
            "Projeto sugerido: \n",
            " \n",
            " **Projeto de Ciência de Dados em Baseball**\n",
            "\n",
            "**Problema a ser resolvido:**\n",
            "\n",
            "Prever o desempenho de um jogador de beisebol na próxima temporada com base em dados históricos.\n",
            "\n",
            "**Fonte de dados:**\n",
            "\n",
            "* Baseball Reference: https://www.baseball-reference.com/\n",
            "* Fangraphs: https://www.fangraphs.com/\n",
            "\n",
            "**Desafios inerentes à área de dados:**\n",
            "\n",
            "* **Dados esparsos:** Os jogadores de beisebol podem ter um número variável de jogos disputados e at-bats por temporada, o que pode tornar difícil obter dados suficientes para fazer previsões precisas.\n",
            "* **Variáveis multicolinearidade:** Muitas das variáveis usadas para prever o desempenho do beisebol são correlacionadas, o que pode dificultar a identificação das variáveis mais importantes.\n",
            "* **Dados desatualizados:** Os dados de desempenho do beisebol podem se tornar desatualizados rapidamente, pois os jogadores melhoram ou regridem com o tempo.\n",
            "\n",
            "**Códigos para iniciar o projeto:**\n",
            "\n",
            "```python\n",
            "import pandas as pd\n",
            "\n",
            "# Carregar dados do Baseball Reference\n",
            "df_br = pd.read_csv('baseball_reference_data.csv')\n",
            "\n",
            "# Carregar dados do Fangraphs\n",
            "df_fg = pd.read_csv('fangraphs_data.csv')\n",
            "\n",
            "# Mesclar dados\n",
            "df = pd.merge(df_br, df_fg, on='player_id')\n",
            "\n",
            "# Exibir as primeiras linhas do dataframe\n",
            "print(df.head())\n",
            "```\n",
            "\n",
            "**Justificativa da escolha do dataset:**\n",
            "\n",
            "Os datasets Baseball Reference e Fangraphs são fontes abrangentes de dados de desempenho do beisebol. Eles fornecem uma ampla gama de variáveis que podem ser usadas para prever o desempenho do jogador, incluindo estatísticas de rebatidas, arremessos e campo. Além disso, esses datasets são atualizados regularmente, o que garante que os dados sejam precisos e atualizados. \n",
            "\n"
          ]
        }
      ]
    },
    {
      "cell_type": "code",
      "source": [],
      "metadata": {
        "id": "OA7wwk4u1x-H"
      },
      "execution_count": null,
      "outputs": []
    },
    {
      "cell_type": "code",
      "source": [],
      "metadata": {
        "id": "TnKaIdwC1yGZ"
      },
      "execution_count": 60,
      "outputs": []
    },
    {
      "cell_type": "code",
      "source": [],
      "metadata": {
        "id": "wD9bHgUk-TT4"
      },
      "execution_count": 69,
      "outputs": []
    }
  ]
}